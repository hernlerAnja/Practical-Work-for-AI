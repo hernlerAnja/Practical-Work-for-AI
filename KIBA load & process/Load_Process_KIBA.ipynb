{
 "cells": [
  {
   "cell_type": "code",
   "execution_count": 51,
   "id": "23cf0c57",
   "metadata": {
    "scrolled": true
   },
   "outputs": [],
   "source": [
    "from DeepPurpose import utils, dataset\n",
    "from DeepPurpose import DTI as models\n",
    "import ast\n",
    "import numpy as np\n",
    "import json\n",
    "import os\n",
    "import requests\n",
    "import warnings\n",
    "warnings.filterwarnings(\"ignore\")"
   ]
  },
  {
   "cell_type": "code",
   "execution_count": 11,
   "id": "12118aa9",
   "metadata": {},
   "outputs": [
    {
     "name": "stdout",
     "output_type": "stream",
     "text": [
      "Beginning Processing...\n",
      "100% [............................................................................] 338300 / 338300Beginning to extract zip file...\n",
      "Done!\n"
     ]
    },
    {
     "data": {
      "text/plain": [
       "(array(['COC1=C(C=C2C(=C1)CCN=C2C3=CC(=C(C=C3)Cl)Cl)Cl',\n",
       "        'COC1=C(C=C2C(=C1)CCN=C2C3=CC(=C(C=C3)Cl)Cl)Cl',\n",
       "        'COC1=C(C=C2C(=C1)CCN=C2C3=CC(=C(C=C3)Cl)Cl)Cl', ...,\n",
       "        'CCCC1=C(NC=N1)CNC2=CC(=C3C(=C2)C(=C(C=N3)C#N)NC4=CC(=C(C=C4)F)Cl)Cl',\n",
       "        'CCCC1=C(NC=N1)CNC2=CC(=C3C(=C2)C(=C(C=N3)C#N)NC4=CC(=C(C=C4)F)Cl)Cl',\n",
       "        'CCCC1=C(NC=N1)CNC2=CC(=C3C(=C2)C(=C(C=N3)C#N)NC4=CC(=C(C=C4)F)Cl)Cl'],\n",
       "       dtype='<U590'),\n",
       " array(['MTVKTEAAKGTLTYSRMRGMVAILIAFMKQRRMGLNDFIQKIANNSYACKHPEVQSILKISQPQEPELMNANPSPPPSPSQQINLGPSSNPHAKPSDFHFLKVIGKGSFGKVLLARHKAEEVFYAVKVLQKKAILKKKEEKHIMSERNVLLKNVKHPFLVGLHFSFQTADKLYFVLDYINGGELFYHLQRERCFLEPRARFYAAEIASALGYLHSLNIVYRDLKPENILLDSQGHIVLTDFGLCKENIEHNSTTSTFCGTPEYLAPEVLHKQPYDRTVDWWCLGAVLYEMLYGLPPFYSRNTAEMYDNILNKPLQLKPNITNSARHLLEGLLQKDRTKRLGAKDDFMEIKSHVFFSLINWDDLINKKITPPFNPNVSGPNDLRHFDPEFTEEPVPNSIGKSPDSVLVTASVKEAAEAFLGFSYAPPTDSFL',\n",
       "        'MSWSPSLTTQTCGAWEMKERLGTGGFGNVIRWHNQETGEQIAIKQCRQELSPRNRERWCLEIQIMRRLTHPNVVAARDVPEGMQNLAPNDLPLLAMEYCQGGDLRKYLNQFENCCGLREGAILTLLSDIASALRYLHENRIIHRDLKPENIVLQQGEQRLIHKIIDLGYAKELDQGSLCTSFVGTLQYLAPELLEQQKYTVTVDYWSFGTLAFECITGFRPFLPNWQPVQWHSKVRQKSEVDIVVSEDLNGTVKFSSSLPYPNNLNSVLAERLEKWLQLMLMWHPRQRGTDPTYGPNGCFKALDDILNLKLVHILNMVTGTIHTYPVTEDESLQSLKARIQQDTGIPEEDQELLQEAGLALIPDKPATQCISDGKLNEGHTLDMDLVFLFDNSKITYETQISPRPQPESVSCILQEPKRNLAFFQLRKVWGQVWHSIQTLKEDCNRLQQGQRAAMMNLLRNNSCLSKMKNSMASMSQQLKAKLDFFKTSIQIDLEKYSEQTEFGITSDKLLLAWREMEQAVELCGRENEVKLLVERMMALQTDIVDLQRSPMGRKQGGTLDDLEEQARELYRRLREKPRDQRTEGDSQEMVRLLLQAIQSFEKKVRVIYTQLSKTVVCKQKALELLPKVEEVVSLMNEDEKTVVRLQEKRQKELWNLLKIACSKVRGPVSGSPDSMNASRLSQPGQLMSQPSTASNSLPEPAKKSEELVAEAHNLCTLLENAIQDTVREQDQSFTALDWSWLQTEEEEHSCLEQAS',\n",
       "        'MERPPGLRPGAGGPWEMRERLGTGGFGNVCLYQHRELDLKIAIKSCRLELSTKNRERWCHEIQIMKKLNHANVVKACDVPEELNILIHDVPLLAMEYCSGGDLRKLLNKPENCCGLKESQILSLLSDIGSGIRYLHENKIIHRDLKPENIVLQDVGGKIIHKIIDLGYAKDVDQGSLCTSFVGTLQYLAPELFENKPYTATVDYWSFGTMVFECIAGYRPFLHHLQPFTWHEKIKKKDPKCIFACEEMSGEVRFSSHLPQPNSLCSLVVEPMENWLQLMLNWDPQQRGGPVDLTLKQPRCFVLMDHILNLKIVHILNMTSAKIISFLLPPDESLHSLQSRIERETGINTGSQELLSETGISLDPRKPASQCVLDGVRGCDSYMVYLFDKSKTVYEGPFASRSLSDCVNYIVQDSKIQLPIIQLRKVWAEAVHYVSGLKEDYSRLFQGQRAAMLSLLRYNANLTKMKNTLISASQQLKAKLEFFHKSIQLDLERYSEQMTYGISSEKMLKAWKEMEEKAIHYAEVGVIGYLEDQIMSLHAEIMELQKSPYGRRQGDLMESLEQRAIDLYKQLKHRPSDHSYSDSTEMVKIIVHTVQSQDRVLKELFGHLSKLLGCKQKIIDLLPKVEVALSNIKEADNTVMFMQGKRQKEIWHLLKIACTQSSARSLVGSSLEGAVTPQTSAWLPPTSAEHDHSLSCVVTPQDGETSAQMIEENLNCLGHLSTIIHEANEEQGNSMMNLDWSWLTE',\n",
       "        ...,\n",
       "        'MASTTTCTRFTDEYQLFEELGKGAFSVVRRCMKIPTGQEYAAKIINTKKLSARDHQKLEREARICRLLKHPNIVRLHDSISEEGFHYLVFDLVTGGELFEDIVAREYYSEADASHCIQQILESVNHCHLNGIVHRDLKPENLLLASKSKGAAVKLADFGLAIEVQGDQQAWFGFAGTPGYLSPEVLRKDPYGKPVDMWACGVILYILLVGYPPFWDEDQHRLYQQIKAGAYDFPSPEWDTVTPEAKDLINKMLTINPAKRITASEALKHPWICQRSTVASMMHRQETVDCLKKFNARRKLKGAILTTMLATRNFSAAKSLLKKPDGVKESTESSNTTIEDEDVKARKQEIIKVTEQLIEAINNGDFEAYTKICDPGLTAFEPEALGNLVEGMDFHRFYFENALSKSNKPIHTIILNPHVHLVGDDAACIAYIRLTQYMDGSGMPKTMQSEETRVWHRRDGKWQNVHFHRSGSPTVPIKPPCIPNGKENFSGGTSLWQNI',\n",
       "        'MSQERPTFYRQELNKTIWEVPERYQNLSPVGSGAYGSVCAAFDTKTGLRVAVKKLSRPFQSIIHAKRTYRELRLLKHMKHENVIGLLDVFTPARSLEEFNDVYLVTHLMGADLNNIVKCQKLTDDHVQFLIYQILRGLKYIHSADIIHRDLKPSNLAVNEDCELKILDFGLARHTDDEMTGYVATRWYRAPEIMLNWMHYNQTVDIWSVGCIMAELLTGRTLFPGTDHIDQLKLILRLVGTPGAELLKKISSESARNYIQSLTQMPKMNFANVFIGANPLAVDLLEKMLVLDSDKRITAAQALAHAYFAQYHDPDDEPVADPYDQSFESRDLLIDEWKSLTYDEVISFVPPPLDQEEMES',\n",
       "        'MATITCTRFTEEYQLFEELGKGAFSVVRRCVKVLAGQEYAAKIINTKKLSARDHQKLEREARICRLLKHPNIVRLHDSISEEGHHYLIFDLVTGGELFEDIVAREYYSEADASHCIQQILEAVLHCHQMGVVHRDLKPENLLLASKLKGAAVKLADFGLAIEVEGEQQAWFGFAGTPGYLSPEVLRKDPYGKPVDLWACGVILYILLVGYPPFWDEDQHRLYQQIKAGAYDFPSPEWDTVTPEAKDLINKMLTINPSKRITAAEALKHPWISHRSTVASCMHRQETVDCLKKFNARRKLKGAILTTMLATRNFSGGKSGGNKKSDGVKESSESTNTTIEDEDTKVRKQEIIKVTEQLIEAISNGDFESYTKMCDPGMTAFEPEALGNLVEGLDFHRFYFENLWSRNSKPVHTTILNPHIHLMGDESACIAYIRITQYLDAGGIPRTAQSEETRVWHRRDGKWQIVHFHRSGAPSVLPH'],\n",
       "       dtype='<U4128'),\n",
       " array([11.1       , 11.1       , 11.1       , ..., 10.49794001,\n",
       "        10.49794001, 10.49794001]))"
      ]
     },
     "execution_count": 11,
     "metadata": {},
     "output_type": "execute_result"
    }
   ],
   "source": [
    "dataset.load_process_KIBA()"
   ]
  },
  {
   "cell_type": "code",
   "execution_count": 28,
   "id": "63a184ae",
   "metadata": {},
   "outputs": [
    {
     "name": "stdout",
     "output_type": "stream",
     "text": [
      "Beginning Processing...\n",
      "100% [............................................................................] 338300 / 338300Beginning to extract zip file...\n",
      "Done!\n"
     ]
    }
   ],
   "source": [
    "smiles, targets, y = dataset.load_process_KIBA()"
   ]
  },
  {
   "cell_type": "code",
   "execution_count": 33,
   "id": "a664a7e9",
   "metadata": {},
   "outputs": [],
   "source": [
    "file = open(\"proteins.txt\", 'r')\n",
    "s = file.read()\n",
    "d = ast.literal_eval(s)"
   ]
  },
  {
   "cell_type": "code",
   "execution_count": 41,
   "id": "75575cbe",
   "metadata": {},
   "outputs": [],
   "source": [
    "selected_y = []\n",
    "selected_smiles = []\n",
    "for k, v in d.items():\n",
    "    idx = np.where(targets==v)[0][0]\n",
    "    selected_y.append(y[idx])\n",
    "    selected_smiles.append(smiles[idx])"
   ]
  },
  {
   "cell_type": "code",
   "execution_count": 42,
   "id": "3fe1a949",
   "metadata": {},
   "outputs": [],
   "source": [
    "y_arr = np.array(selected_y)\n",
    "smiles_arr = np.array(selected_smiles)\n",
    "# np.save('target_affinity.npy', y_arr)"
   ]
  },
  {
   "cell_type": "code",
   "execution_count": 48,
   "id": "a1c4f952",
   "metadata": {},
   "outputs": [
    {
     "name": "stdout",
     "output_type": "stream",
     "text": [
      "['O00141', 'O00311', 'O00329', 'O00418', 'O00444', 'O14757', 'O14920', 'O14965', 'O15075', 'O15111', 'O15264', 'O15530', 'O43293', 'O43741', 'O43781', 'O60285', 'O60674', 'O75116', 'O75582', 'O75676', 'O94806', 'O95819', 'O96013', 'O96017', 'P00519', 'P00533', 'P04049', 'P04626', 'P04629', 'P05129', 'P05771', 'P06213', 'P06239', 'P06241', 'P06493', 'P07332', 'P07333', 'P07947', 'P07948', 'P07949', 'P08069', 'P08581', 'P08631', 'P08922', 'P09619', 'P09769', 'P10721', 'P11309', 'P11362', 'P11802', 'P12931', 'P15056', 'P15735', 'P16234', 'P16591', 'P17252', 'P17612', 'P17948', 'P19784', 'P21802', 'P22455', 'P22607', 'P22612', 'P22694', 'P23443', 'P23458', 'P24723', 'P24941', 'P27361', 'P27448', 'P28482', 'P29317', 'P29323', 'P29376', 'P29597', 'P30291', 'P30530', 'P31749', 'P31751', 'P34947', 'P35916', 'P35968', 'P36507', 'P36888', 'P41240', 'P41279', 'P41743', 'P42336', 'P42338', 'P42345', 'P42679', 'P42684', 'P42685', 'P43403', 'P43405', 'P45983', 'P45984', 'P48729', 'P48730', 'P48736', 'P49137', 'P49336', 'P49674', 'P49759', 'P49760', 'P49840', 'P49841', 'P50613', 'P50750', 'P51451', 'P51617', 'P51812', 'P51813', 'P51817', 'P51955', 'P51957', 'P52333', 'P52564', 'P53350', 'P53667', 'P53778', 'P53779', 'P54619', 'P54646', 'P54760', 'P67870', 'P68400', 'P78368', 'P78527', 'P80192', 'Q00534', 'Q00535', 'Q02156', 'Q02750', 'Q02763', 'Q02779', 'Q04759', 'Q04771', 'Q04912', 'Q05397', 'Q05513', 'Q05655', 'Q06187', 'Q06418', 'Q07912', 'Q08881', 'Q12851', 'Q12866', 'Q13131', 'Q13153', 'Q13177', 'Q13188', 'Q13237', 'Q13464', 'Q13554', 'Q13555', 'Q13557', 'Q13627', 'Q13882', 'Q13976', 'Q14012', 'Q14164', 'Q14289', 'Q14680', 'Q15078', 'Q15118', 'Q15139', 'Q15303', 'Q15418', 'Q15759', 'Q16288', 'Q16512', 'Q16513', 'Q16539', 'Q16566', 'Q16584', 'Q16620', 'Q16644', 'Q5S007', 'Q5VT25', 'Q7KZI7', 'Q7L7X3', 'Q86V86', 'Q8IU85', 'Q8IW41', 'Q8N4C8', 'Q8NE63', 'Q8TDC3', 'Q96GD4', 'Q96KB5', 'Q96L34', 'Q96PF2', 'Q96RG2', 'Q96RR4', 'Q96SB4', 'Q99683', 'Q9BUB5', 'Q9BWU1', 'Q9BXA7', 'Q9BZL6', 'Q9H0K1', 'Q9H2G2', 'Q9H2X6', 'Q9H3Y6', 'Q9H4B4', 'Q9HAZ1', 'Q9HBH9', 'Q9HBY8', 'Q9HC98', 'Q9HCP0', 'Q9NR20', 'Q9NWZ3', 'Q9NYL2', 'Q9P1W9', 'Q9P289', 'Q9UBE8', 'Q9UBF8', 'Q9UBS0', 'Q9UEE5', 'Q9UGI9', 'Q9UGJ0', 'Q9UHD2', 'Q9UM73', 'Q9UQM7', 'Q9Y243', 'Q9Y463', 'Q9Y478', 'Q9Y4K4', 'Q9Y6M4']\n"
     ]
    }
   ],
   "source": [
    "# get uniprot ids\n",
    "key_list = list(d.keys())\n",
    "print(key_list)"
   ]
  },
  {
   "cell_type": "code",
   "execution_count": 52,
   "id": "77812529",
   "metadata": {},
   "outputs": [],
   "source": [
    "# load pdb ids\n",
    "with open('idmapping_2023_11_12.json', 'r') as file:\n",
    "    data = json.load(file)\n"
   ]
  },
  {
   "cell_type": "code",
   "execution_count": null,
   "id": "6b7fb23d",
   "metadata": {},
   "outputs": [],
   "source": [
    "pdb_ids = []\n",
    "for i in range(len(data['results'])):\n",
    "    if data['results'][i]['from'] in key_list: \n",
    "        pdb_ids.append(data['results'][i]['to'])"
   ]
  },
  {
   "cell_type": "code",
   "execution_count": 52,
   "id": "e4df6c0b",
   "metadata": {},
   "outputs": [
    {
     "name": "stdout",
     "output_type": "stream",
     "text": [
      "Failed to download 7Z37.pdb. Status code: 404\n",
      "Failed to download 7QVK.pdb. Status code: 404\n",
      "Failed to download 7OZB.pdb. Status code: 404\n",
      "Failed to download 7OZD.pdb. Status code: 404\n",
      "Failed to download 7OZF.pdb. Status code: 404\n",
      "Failed to download 7OZY.pdb. Status code: 404\n",
      "Failed to download 6BCU.pdb. Status code: 404\n",
      "Failed to download 6BCX.pdb. Status code: 404\n",
      "Failed to download 7UXH.pdb. Status code: 404\n",
      "Failed to download 7Q5T.pdb. Status code: 404\n",
      "Failed to download 7Q5U.pdb. Status code: 404\n",
      "Failed to download 7Q5W.pdb. Status code: 404\n",
      "Failed to download 7Q63.pdb. Status code: 404\n",
      "Failed to download 7OA0.pdb. Status code: 404\n",
      "Failed to download 7EGB.pdb. Status code: 404\n",
      "Failed to download 7EGC.pdb. Status code: 404\n",
      "Failed to download 7ENA.pdb. Status code: 404\n",
      "Failed to download 7ENC.pdb. Status code: 404\n",
      "Failed to download 7LBM.pdb. Status code: 404\n",
      "Failed to download 8BVW.pdb. Status code: 404\n",
      "Failed to download 8BYQ.pdb. Status code: 404\n",
      "Failed to download 8GXQ.pdb. Status code: 404\n",
      "Failed to download 8GXS.pdb. Status code: 404\n",
      "Failed to download 7Q6H.pdb. Status code: 404\n",
      "Failed to download 6TLU.pdb. Status code: 404\n",
      "Failed to download 6YUL.pdb. Status code: 404\n",
      "Failed to download 6YUM.pdb. Status code: 404\n",
      "Failed to download 6Z83.pdb. Status code: 404\n",
      "Failed to download 6Z84.pdb. Status code: 404\n",
      "Failed to download 8BOT.pdb. Status code: 404\n",
      "Failed to download 7PI4.pdb. Status code: 404\n",
      "Failed to download 6T28.pdb. Status code: 404\n",
      "Failed to download 6T29.pdb. Status code: 404\n"
     ]
    }
   ],
   "source": [
    "#EXECUTED - BUT 33 failed & 119 missing\n",
    "download_dir = 'PDB_files'\n",
    "\n",
    "# Base URL\n",
    "base_url = 'https://files.rcsb.org/download/'\n",
    "\n",
    "for pdb_id in pdb_ids:\n",
    "    # Download URL with PDB ID\n",
    "    download_url = f'{base_url}{pdb_id}.pdb'\n",
    "\n",
    "    save_path = os.path.join(download_dir, f'{pdb_id}.pdb')\n",
    "\n",
    "    # Make the request to download the file\n",
    "    response = requests.get(download_url)\n",
    "\n",
    "    # Check if the request was successful (status code 200)\n",
    "    if response.status_code == 200:\n",
    "        with open(save_path, 'wb') as file:\n",
    "            file.write(response.content)\n",
    "        #print(f'Successfully downloaded {pdb_id}.pdb')\n",
    "    else:\n",
    "        print(f'Failed to download {pdb_id}.pdb. Status code: {response.status_code}')\n"
   ]
  },
  {
   "cell_type": "code",
   "execution_count": 53,
   "id": "c0c85922",
   "metadata": {},
   "outputs": [
    {
     "data": {
      "text/plain": [
       "33"
      ]
     },
     "execution_count": 53,
     "metadata": {},
     "output_type": "execute_result"
    }
   ],
   "source": [
    "# failed pdb_ids\n",
    "failed = ['7Z37', '7QVK', '7OZB', '7OZD', '7OZF', '7OZY', '6BCU', '6BCX', '7UXH', '7Q5T', '7Q5U', '7Q5W', '7Q63', '7OA0', '7EGB', '7EGC', '7ENA', '7ENC', '7LBM', '8BVW', '8BYQ', '8GXQ', '8GXS', '7Q6H', '6TLU', '6YUL', '6YUM', '6Z83', '6Z84', '8BOT', '7PI4', '6T28', '6T29']\n",
    "len(failed)"
   ]
  },
  {
   "cell_type": "code",
   "execution_count": 57,
   "id": "dd48685c",
   "metadata": {},
   "outputs": [
    {
     "name": "stdout",
     "output_type": "stream",
     "text": [
      "[1159, 1208, 2000, 2001, 2002, 2341, 3497, 3498, 3515, 3624, 3625, 3626, 3627, 3912, 4034, 4035, 4036, 4037, 4038, 4040, 4041, 4042, 4043, 4157, 4559, 4567, 4568, 4571, 4572, 4645, 4887, 5737, 5738]\n"
     ]
    }
   ],
   "source": [
    "# get index of failed pdb_ids in mapping .json file\n",
    "failed_idx = []\n",
    "for i in failed:\n",
    "    if i in pdb_ids:\n",
    "        failed_idx.append(pdb_ids.index(i))\n",
    "print(failed_idx)"
   ]
  },
  {
   "cell_type": "code",
   "execution_count": 59,
   "id": "0fd7cf1f",
   "metadata": {},
   "outputs": [
    {
     "name": "stdout",
     "output_type": "stream",
     "text": [
      "{'from': 'P04049', 'to': '7Z37'}\n",
      "{'from': 'P04626', 'to': '7QVK'}\n",
      "{'from': 'P11362', 'to': '7OZB'}\n",
      "{'from': 'P11362', 'to': '7OZD'}\n",
      "{'from': 'P11362', 'to': '7OZF'}\n",
      "{'from': 'P21802', 'to': '7OZY'}\n",
      "{'from': 'P42345', 'to': '6BCU'}\n",
      "{'from': 'P42345', 'to': '6BCX'}\n",
      "{'from': 'P42345', 'to': '7UXH'}\n",
      "{'from': 'P43405', 'to': '7Q5T'}\n",
      "{'from': 'P43405', 'to': '7Q5U'}\n",
      "{'from': 'P43405', 'to': '7Q5W'}\n",
      "{'from': 'P43405', 'to': '7Q63'}\n",
      "{'from': 'P49759', 'to': '7OA0'}\n",
      "{'from': 'P50613', 'to': '7EGB'}\n",
      "{'from': 'P50613', 'to': '7EGC'}\n",
      "{'from': 'P50613', 'to': '7ENA'}\n",
      "{'from': 'P50613', 'to': '7ENC'}\n",
      "{'from': 'P50613', 'to': '7LBM'}\n",
      "{'from': 'P50613', 'to': '8BVW'}\n",
      "{'from': 'P50613', 'to': '8BYQ'}\n",
      "{'from': 'P50613', 'to': '8GXQ'}\n",
      "{'from': 'P50613', 'to': '8GXS'}\n",
      "{'from': 'P52333', 'to': '7Q6H'}\n",
      "{'from': 'P68400', 'to': '6TLU'}\n",
      "{'from': 'P68400', 'to': '6YUL'}\n",
      "{'from': 'P68400', 'to': '6YUM'}\n",
      "{'from': 'P68400', 'to': '6Z83'}\n",
      "{'from': 'P68400', 'to': '6Z84'}\n",
      "{'from': 'P78527', 'to': '8BOT'}\n",
      "{'from': 'Q05397', 'to': '7PI4'}\n",
      "{'from': 'Q8IU85', 'to': '6T28'}\n",
      "{'from': 'Q8IU85', 'to': '6T29'}\n"
     ]
    }
   ],
   "source": [
    "# uniprot ids for which the download withthe pdb id failed (more than one pdb per uniprot id...)\n",
    "for f in failed_idx:\n",
    "    print(data['results'][f])"
   ]
  },
  {
   "cell_type": "code",
   "execution_count": 37,
   "id": "96115cde",
   "metadata": {},
   "outputs": [
    {
     "name": "stdout",
     "output_type": "stream",
     "text": [
      "Successfully downloaded Q14164.pdb\n",
      "Successfully downloaded Q8TDC3.pdb\n",
      "Successfully downloaded Q8NE63.pdb\n",
      "Successfully downloaded P42338.pdb\n",
      "Successfully downloaded O60285.pdb\n",
      "Successfully downloaded Q12851.pdb\n",
      "Successfully downloaded Q7L7X3.pdb\n",
      "Successfully downloaded Q9Y463.pdb\n",
      "Successfully downloaded Q9H3Y6.pdb\n",
      "Successfully downloaded O75676.pdb\n",
      "Successfully downloaded Q8IW41.pdb\n",
      "Successfully downloaded P42685.pdb\n",
      "Successfully downloaded Q9BWU1.pdb\n",
      "Successfully downloaded P51957.pdb\n",
      "Successfully downloaded Q9HBY8.pdb\n",
      "Successfully downloaded Q05513.pdb\n",
      "Successfully downloaded Q8N4C8.pdb\n",
      "Successfully downloaded P51451.pdb\n",
      "Successfully downloaded P22694.pdb\n",
      "Successfully downloaded Q9H0K1.pdb\n",
      "Successfully downloaded Q9UGJ0.pdb\n",
      "Successfully downloaded Q9Y4K4.pdb\n",
      "Successfully downloaded Q15139.pdb\n",
      "Successfully downloaded Q9NR20.pdb\n",
      "Successfully downloaded Q9UBS0.pdb\n",
      "Successfully downloaded P22612.pdb\n",
      "Successfully downloaded Q9BXA7.pdb\n",
      "Successfully downloaded Q9UGI9.pdb\n",
      "Successfully downloaded P51817.pdb\n",
      "Successfully downloaded Q9HC98.pdb\n",
      "Successfully downloaded Q96PF2.pdb\n",
      "Successfully downloaded Q9UBE8.pdb\n",
      "Successfully downloaded Q5VT25.pdb\n",
      "Successfully downloaded Q86V86.pdb\n"
     ]
    }
   ],
   "source": [
    "# DONE - DON'T EXECUTE AGAIN\n",
    "# get pdb-files for proteins wihtout pdb id (Alphafold)\n",
    "uniprot_ids = [\n",
    "    'Q14164', 'Q8TDC3', 'Q8NE63', 'P42338', 'O60285', 'Q12851', 'Q7L7X3', 'Q9Y463',\n",
    "    'Q9H3Y6', 'O75676', 'Q8IW41', 'P42685', 'Q9BWU1', 'P51957', 'Q9HBY8', 'Q05513',\n",
    "    'Q8N4C8', 'P51451', 'P22694', 'Q9H0K1', 'Q9UGJ0', 'Q9Y4K4', 'Q15139', 'Q9NR20',\n",
    "    'Q9UBS0', 'P22612', 'Q9BXA7', 'Q9UGI9', 'P51817', 'Q9HC98', 'Q96PF2', 'Q9UBE8',\n",
    "    'Q5VT25', 'Q86V86'\n",
    "]\n",
    "\n",
    "download_dir = 'PDB_files'\n",
    "\n",
    "# Base URL\n",
    "url = 'https://alphafold.ebi.ac.uk/files/AF-O00141-F1-model_v2.pdb'\n",
    "\n",
    "for uniprot_id in uniprot_ids:\n",
    "    # Download URL with UNIPROT ID\n",
    "    download_url = f'https://alphafold.ebi.ac.uk/files/AF-{uniprot_id}-F1-model_v2.pdb'\n",
    "\n",
    "    save_path = os.path.join(download_dir, f'{uniprot_id}.pdb')\n",
    "\n",
    "    # Make the request to download the file\n",
    "    response = requests.get(download_url)\n",
    "\n",
    "    # Check if the request was successful (status code 200)\n",
    "    if response.status_code == 200:\n",
    "        with open(save_path, 'wb') as file:\n",
    "            file.write(response.content)\n",
    "        print(f'Successfully downloaded {uniprot_id}.pdb')\n",
    "    else:\n",
    "        print(f'Failed to download {uniprot_id}.pdb. Status code: {response.status_code}')"
   ]
  }
 ],
 "metadata": {
  "kernelspec": {
   "display_name": "Python 3 (ipykernel)",
   "language": "python",
   "name": "python3"
  },
  "language_info": {
   "codemirror_mode": {
    "name": "ipython",
    "version": 3
   },
   "file_extension": ".py",
   "mimetype": "text/x-python",
   "name": "python",
   "nbconvert_exporter": "python",
   "pygments_lexer": "ipython3",
   "version": "3.6.13"
  }
 },
 "nbformat": 4,
 "nbformat_minor": 5
}
